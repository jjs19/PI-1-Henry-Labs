{
 "cells": [
  {
   "cell_type": "markdown",
   "metadata": {},
   "source": [
    "En este Notebook se encuentran las consultas que se solicita en la API."
   ]
  },
  {
   "cell_type": "code",
   "execution_count": 1,
   "metadata": {},
   "outputs": [],
   "source": [
    "import pandas as pd\n",
    "import ast  # Para convertir el string del diccionario en un diccionario real\n",
    "import numpy as np\n",
    "import json\n",
    "from pandas import json_normalize\n",
    "\n",
    "final = pd.read_csv('mi_df_consultas')\n",
    "df_final = pd.DataFrame(final)"
   ]
  },
  {
   "cell_type": "code",
   "execution_count": 2,
   "metadata": {},
   "outputs": [],
   "source": [
    "def peliculas_idioma(idioma):\n",
    "    cantidad = df_final['spoken_languages'].apply(lambda x: idioma in x).sum()\n",
    "    mensaje = f\"Se han lanzado '{cantidad}' peliculas en ese Idioma\"\n",
    "    return mensaje"
   ]
  },
  {
   "cell_type": "code",
   "execution_count": 3,
   "metadata": {},
   "outputs": [
    {
     "data": {
      "text/plain": [
       "\"Se han lanzado '28771' de peliculas en ese Idioma\""
      ]
     },
     "execution_count": 3,
     "metadata": {},
     "output_type": "execute_result"
    }
   ],
   "source": [
    "peliculas_idioma('English')"
   ]
  },
  {
   "cell_type": "code",
   "execution_count": 4,
   "metadata": {},
   "outputs": [],
   "source": [
    "def peliculas_duracion(nombre_pelicula):\n",
    "    \"\"\"\n",
    "    Esta función toma el nombre de una película y devuelve la duración y el año de lanzamiento\n",
    "    de la película solicitada.\n",
    "    \"\"\"\n",
    "    pelicula = df_final[df_final['title'] == nombre_pelicula]\n",
    "\n",
    "    if pelicula.empty:\n",
    "        return \"Película no encontrada en la base de datos.\"\n",
    "\n",
    "    duracion = pelicula['runtime'].values[0]\n",
    "    ano_lanzamiento = pelicula['release_year'].values[0]\n",
    "\n",
    "    mensaje = f\"La película '{nombre_pelicula}' tiene una duración de {duracion} minutos y fue lanzada en el año {ano_lanzamiento}.\"\n",
    "\n",
    "    return mensaje"
   ]
  },
  {
   "cell_type": "code",
   "execution_count": 5,
   "metadata": {},
   "outputs": [
    {
     "data": {
      "text/plain": [
       "\"La película 'Toy Story' tiene una duración de 81.0 minutos y fue lanzada en el año 1995.\""
      ]
     },
     "execution_count": 5,
     "metadata": {},
     "output_type": "execute_result"
    }
   ],
   "source": [
    "peliculas_duracion('Toy Story')"
   ]
  },
  {
   "cell_type": "code",
   "execution_count": 6,
   "metadata": {},
   "outputs": [],
   "source": [
    "def franquicia(Franquicia: str):\n",
    "    # Filtrar el DataFrame para obtener solo las filas de la franquicia específica\n",
    "    franquicia_df = df_final[df_final['belongs_to_collection'] == Franquicia]\n",
    "    \n",
    "    # Calcular la cantidad total de películas\n",
    "    total_peliculas = franquicia_df['belongs_to_collection'].count()\n",
    "     \n",
    "    # Calcular el return total de películas\n",
    "    total_return = franquicia_df['return'].sum()\n",
    "\n",
    "    # Calcular el promedio de películas\n",
    "    promedio_return = franquicia_df['return'].mean()\n",
    "    \n",
    "    mensaje = f\"La franquicia '{Franquicia}' cuenta con un total de '{total_peliculas}' peliculas con las cuales obtuvo una Ganancia Total de '${total_return}' y en promedio '${promedio_return}'.\"\n",
    "\n",
    "    return mensaje"
   ]
  },
  {
   "cell_type": "code",
   "execution_count": 7,
   "metadata": {},
   "outputs": [
    {
     "data": {
      "text/plain": [
       "\"La franquicia 'Toy Story Collection' cuenta con un total de '3' peliculas con las cuales obtuvo una Ganancia Total de '$23.312948159444446' y en promedio '$7.770982719814815'.\""
      ]
     },
     "execution_count": 7,
     "metadata": {},
     "output_type": "execute_result"
    }
   ],
   "source": [
    "franquicia('Toy Story Collection')"
   ]
  },
  {
   "cell_type": "code",
   "execution_count": 8,
   "metadata": {},
   "outputs": [],
   "source": [
    "def peliculas_pais(pais):\n",
    "    cantidad = df_final['production_countries'].apply(lambda x: pais in x).sum()\n",
    "    mensaje = f\"Se han lanzado '{cantidad}' de peliculas en '{pais}'\"\n",
    "    return mensaje"
   ]
  },
  {
   "cell_type": "code",
   "execution_count": 9,
   "metadata": {},
   "outputs": [
    {
     "data": {
      "text/plain": [
       "\"Se han lanzado '254' de peliculas en 'Argentina'\""
      ]
     },
     "execution_count": 9,
     "metadata": {},
     "output_type": "execute_result"
    }
   ],
   "source": [
    "peliculas_pais('Argentina')"
   ]
  },
  {
   "cell_type": "code",
   "execution_count": 10,
   "metadata": {},
   "outputs": [],
   "source": [
    "def productoras_exitosas(productora):\n",
    "    # Filtrar el DataFrame para obtener solo las filas de la franquicia específica\n",
    "    productora_df = df_final[df_final['production_companies'].str.contains(productora)]\n",
    "\n",
    "    # Calcular la cantidad total de películas\n",
    "\n",
    "    total_peliculas = productora_df['production_companies'].count()\n",
    " \n",
    "    # Calcular el return total de películas\n",
    "    total_revenue = productora_df['revenue'].sum()\n",
    "\n",
    "    mensaje = f\" La productora '{productora}' ha tenido un revenue de '${total_revenue}' y ha producido un total de '{total_peliculas}'\"\n",
    "\n",
    "    return mensaje"
   ]
  },
  {
   "cell_type": "code",
   "execution_count": 11,
   "metadata": {},
   "outputs": [
    {
     "data": {
      "text/plain": [
       "\" La productora 'Pixar Animation Studios' ha tenido un revenue de '$11188533734.0' y ha producido un total de '52'\""
      ]
     },
     "execution_count": 11,
     "metadata": {},
     "output_type": "execute_result"
    }
   ],
   "source": [
    "productoras_exitosas('Pixar Animation Studios')"
   ]
  },
  {
   "cell_type": "code",
   "execution_count": 12,
   "metadata": {},
   "outputs": [],
   "source": [
    "def get_director_info(director):\n",
    "    # Limpieza del DataFrame: eliminar filas con valores faltantes en las columnas relevantes\n",
    "    relevant_columns = ['director', 'title', 'release_year', 'budget', 'return']\n",
    "    df_cleaned = df_final.dropna(subset=relevant_columns)\n",
    "\n",
    "    # Filtrar el DataFrame limpio para obtener solo las filas del director específico\n",
    "    director_df = df_cleaned[df_cleaned['director'].str.contains(director, case=False)]\n",
    "\n",
    "    # Calcular el return total del director\n",
    "    total_revenue = director_df['revenue'].sum()\n",
    "\n",
    "    # Extraer la información requerida del DataFrame filtrado\n",
    "    movie_info = []\n",
    "    for index, row in director_df.iterrows():\n",
    "        movie_name = row['title']\n",
    "        release_year = row['release_year']\n",
    "        budget = row['budget']\n",
    "        revenue = row['return']\n",
    "\n",
    "        movie_info.append([movie_name, release_year, budget, revenue])\n",
    "    \n",
    "    mensaje = f\" El director '{director}' ha tenido un revenue totla de '${total_revenue}' y ha producido las siguientes peliculas, detallando ano de lanzamiento, costo y revenue respectivamente.'\"\n",
    "    return mensaje, movie_info\n"
   ]
  },
  {
   "cell_type": "code",
   "execution_count": 13,
   "metadata": {},
   "outputs": [
    {
     "data": {
      "text/plain": [
       "(\" El director 'John Lasseter' ha tenido un revenue totla de '$2256015306.0' y ha producido las siguientes peliculas, detallando ano de lanzamiento, costo y revenue respectivamente.'\",\n",
       " [['Toy Story', 1995, 30000000, 12.4518011],\n",
       "  [\"A Bug's Life\", 1998, 120000000, 3.027157158333333],\n",
       "  ['Toy Story 2', 1999, 90000000, 5.526298544444445],\n",
       "  ['Luxo Jr.', 1986, 0, 0.0],\n",
       "  ['Cars', 2006, 120000000, 3.849859575],\n",
       "  ['Cars 2', 2011, 200000000, 2.79926198],\n",
       "  ['Tin Toy', 1988, 0, 0.0],\n",
       "  [\"Red's Dream\", 1987, 0, 0.0],\n",
       "  ['Knick Knack', 1989, 0, 0.0],\n",
       "  ['Mater and the Ghostlight', 2006, 0, 0.0]])"
      ]
     },
     "execution_count": 13,
     "metadata": {},
     "output_type": "execute_result"
    }
   ],
   "source": [
    "get_director_info('John Lasseter')"
   ]
  },
  {
   "cell_type": "code",
   "execution_count": 14,
   "metadata": {},
   "outputs": [],
   "source": [
    "def get_director_info(director):\n",
    "    # Filtrar el DataFrame para obtener solo las filas del director específico\n",
    "    director_df = df_final[df_final['director'].str.contains(director, case=False)]\n",
    "\n",
    "    # Extraer la información requerida del DataFrame filtrado\n",
    "    movie_info = []\n",
    "    for index, row in director_df.iterrows():\n",
    "        movie_name = row['title']\n",
    "        release_year = row['release year']\n",
    "        budget = row['budget']\n",
    "        revenue = row['return']\n",
    "        \n",
    "        movie_info.append([movie_name, release_year, budget, revenue])\n",
    "    \n",
    "    return movie_info\n",
    "\n",
    "    #mensaje = f\" La productora '{productora}' ha tenido un revenue de '${total_revenue}' y ha producido un total de '{total_peliculas}'\"\n",
    "\n",
    "    #return mensaje"
   ]
  }
 ],
 "metadata": {
  "kernelspec": {
   "display_name": "Python 3",
   "language": "python",
   "name": "python3"
  },
  "language_info": {
   "codemirror_mode": {
    "name": "ipython",
    "version": 3
   },
   "file_extension": ".py",
   "mimetype": "text/x-python",
   "name": "python",
   "nbconvert_exporter": "python",
   "pygments_lexer": "ipython3",
   "version": "3.11.3"
  },
  "orig_nbformat": 4
 },
 "nbformat": 4,
 "nbformat_minor": 2
}
