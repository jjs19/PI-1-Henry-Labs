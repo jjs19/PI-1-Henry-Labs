{
 "cells": [
  {
   "cell_type": "markdown",
   "metadata": {},
   "source": [
    "En este Notebook se encuentran las consultas que se solicita en la API."
   ]
  },
  {
   "cell_type": "code",
   "execution_count": 107,
   "metadata": {},
   "outputs": [],
   "source": [
    "import pandas as pd\n",
    "import ast  # Para convertir el string del diccionario en un diccionario real\n",
    "import numpy as np\n",
    "from pandas import json_normalize\n",
    "\n",
    "final = pd.read_csv('mi_df_consultas')\n",
    "df_final = pd.DataFrame(final)\n",
    "df_final = df_final.head(5000)"
   ]
  },
  {
   "cell_type": "code",
   "execution_count": 108,
   "metadata": {},
   "outputs": [
    {
     "data": {
      "text/html": [
       "<div>\n",
       "<style scoped>\n",
       "    .dataframe tbody tr th:only-of-type {\n",
       "        vertical-align: middle;\n",
       "    }\n",
       "\n",
       "    .dataframe tbody tr th {\n",
       "        vertical-align: top;\n",
       "    }\n",
       "\n",
       "    .dataframe thead th {\n",
       "        text-align: right;\n",
       "    }\n",
       "</style>\n",
       "<table border=\"1\" class=\"dataframe\">\n",
       "  <thead>\n",
       "    <tr style=\"text-align: right;\">\n",
       "      <th></th>\n",
       "      <th>belongs_to_collection</th>\n",
       "      <th>budget</th>\n",
       "      <th>id</th>\n",
       "      <th>production_companies</th>\n",
       "      <th>production_countries</th>\n",
       "      <th>revenue</th>\n",
       "      <th>runtime</th>\n",
       "      <th>spoken_languages</th>\n",
       "      <th>title</th>\n",
       "      <th>release_year</th>\n",
       "      <th>return</th>\n",
       "      <th>director</th>\n",
       "    </tr>\n",
       "  </thead>\n",
       "  <tbody>\n",
       "    <tr>\n",
       "      <th>0</th>\n",
       "      <td>Toy Story Collection</td>\n",
       "      <td>30000000</td>\n",
       "      <td>862</td>\n",
       "      <td>['Pixar Animation Studios']</td>\n",
       "      <td>['United States of America']</td>\n",
       "      <td>373554033.0</td>\n",
       "      <td>81.0</td>\n",
       "      <td>['English']</td>\n",
       "      <td>Toy Story</td>\n",
       "      <td>1995</td>\n",
       "      <td>12.451801</td>\n",
       "      <td>John Lasseter</td>\n",
       "    </tr>\n",
       "    <tr>\n",
       "      <th>1</th>\n",
       "      <td>NaN</td>\n",
       "      <td>65000000</td>\n",
       "      <td>8844</td>\n",
       "      <td>['TriStar Pictures', 'Teitler Film', 'Intersco...</td>\n",
       "      <td>['United States of America']</td>\n",
       "      <td>262797249.0</td>\n",
       "      <td>104.0</td>\n",
       "      <td>['English', 'Français']</td>\n",
       "      <td>Jumanji</td>\n",
       "      <td>1995</td>\n",
       "      <td>4.043035</td>\n",
       "      <td>Joe Johnston</td>\n",
       "    </tr>\n",
       "    <tr>\n",
       "      <th>2</th>\n",
       "      <td>Grumpy Old Men Collection</td>\n",
       "      <td>0</td>\n",
       "      <td>15602</td>\n",
       "      <td>['Warner Bros.', 'Lancaster Gate']</td>\n",
       "      <td>['United States of America']</td>\n",
       "      <td>0.0</td>\n",
       "      <td>101.0</td>\n",
       "      <td>['English']</td>\n",
       "      <td>Grumpier Old Men</td>\n",
       "      <td>1995</td>\n",
       "      <td>0.000000</td>\n",
       "      <td>Howard Deutch</td>\n",
       "    </tr>\n",
       "    <tr>\n",
       "      <th>3</th>\n",
       "      <td>NaN</td>\n",
       "      <td>16000000</td>\n",
       "      <td>31357</td>\n",
       "      <td>['Twentieth Century Fox Film Corporation']</td>\n",
       "      <td>['United States of America']</td>\n",
       "      <td>81452156.0</td>\n",
       "      <td>127.0</td>\n",
       "      <td>['English']</td>\n",
       "      <td>Waiting to Exhale</td>\n",
       "      <td>1995</td>\n",
       "      <td>5.090760</td>\n",
       "      <td>Forest Whitaker</td>\n",
       "    </tr>\n",
       "    <tr>\n",
       "      <th>4</th>\n",
       "      <td>Father of the Bride Collection</td>\n",
       "      <td>0</td>\n",
       "      <td>11862</td>\n",
       "      <td>['Sandollar Productions', 'Touchstone Pictures']</td>\n",
       "      <td>['United States of America']</td>\n",
       "      <td>76578911.0</td>\n",
       "      <td>106.0</td>\n",
       "      <td>['English']</td>\n",
       "      <td>Father of the Bride Part II</td>\n",
       "      <td>1995</td>\n",
       "      <td>0.000000</td>\n",
       "      <td>Charles Shyer</td>\n",
       "    </tr>\n",
       "    <tr>\n",
       "      <th>...</th>\n",
       "      <td>...</td>\n",
       "      <td>...</td>\n",
       "      <td>...</td>\n",
       "      <td>...</td>\n",
       "      <td>...</td>\n",
       "      <td>...</td>\n",
       "      <td>...</td>\n",
       "      <td>...</td>\n",
       "      <td>...</td>\n",
       "      <td>...</td>\n",
       "      <td>...</td>\n",
       "      <td>...</td>\n",
       "    </tr>\n",
       "    <tr>\n",
       "      <th>4995</th>\n",
       "      <td>NaN</td>\n",
       "      <td>0</td>\n",
       "      <td>19137</td>\n",
       "      <td>['Nancy Enterprises Inc. (I)', 'Cinecitta Ital...</td>\n",
       "      <td>['United States of America']</td>\n",
       "      <td>0.0</td>\n",
       "      <td>108.0</td>\n",
       "      <td>['English']</td>\n",
       "      <td>After the Fox</td>\n",
       "      <td>1966</td>\n",
       "      <td>0.000000</td>\n",
       "      <td>Vittorio De Sica</td>\n",
       "    </tr>\n",
       "    <tr>\n",
       "      <th>4996</th>\n",
       "      <td>NaN</td>\n",
       "      <td>1558000</td>\n",
       "      <td>32499</td>\n",
       "      <td>['Metro-Goldwyn-Mayer (MGM)']</td>\n",
       "      <td>['United States of America']</td>\n",
       "      <td>0.0</td>\n",
       "      <td>118.0</td>\n",
       "      <td>['English']</td>\n",
       "      <td>The Bad and the Beautiful</td>\n",
       "      <td>1952</td>\n",
       "      <td>0.000000</td>\n",
       "      <td>Vincente Minnelli</td>\n",
       "    </tr>\n",
       "    <tr>\n",
       "      <th>4997</th>\n",
       "      <td>NaN</td>\n",
       "      <td>0</td>\n",
       "      <td>8737</td>\n",
       "      <td>['Bryna Productions', 'Batjac Productions', 'M...</td>\n",
       "      <td>['United States of America']</td>\n",
       "      <td>0.0</td>\n",
       "      <td>146.0</td>\n",
       "      <td>['English']</td>\n",
       "      <td>Cast a Giant Shadow</td>\n",
       "      <td>1966</td>\n",
       "      <td>0.000000</td>\n",
       "      <td>Melville Shavelson</td>\n",
       "    </tr>\n",
       "    <tr>\n",
       "      <th>4998</th>\n",
       "      <td>NaN</td>\n",
       "      <td>0</td>\n",
       "      <td>33668</td>\n",
       "      <td>['Metro-Goldwyn-Mayer (MGM)']</td>\n",
       "      <td>['United States of America']</td>\n",
       "      <td>0.0</td>\n",
       "      <td>118.0</td>\n",
       "      <td>['English']</td>\n",
       "      <td>Designing Woman</td>\n",
       "      <td>1957</td>\n",
       "      <td>0.000000</td>\n",
       "      <td>Vincente Minnelli</td>\n",
       "    </tr>\n",
       "    <tr>\n",
       "      <th>4999</th>\n",
       "      <td>Fanny Brice Collection</td>\n",
       "      <td>0</td>\n",
       "      <td>39282</td>\n",
       "      <td>['Columbia Pictures Corporation, Rastar Pictur...</td>\n",
       "      <td>['United States of America']</td>\n",
       "      <td>0.0</td>\n",
       "      <td>136.0</td>\n",
       "      <td>['English']</td>\n",
       "      <td>Funny Lady</td>\n",
       "      <td>1975</td>\n",
       "      <td>0.000000</td>\n",
       "      <td>Herbert Ross</td>\n",
       "    </tr>\n",
       "  </tbody>\n",
       "</table>\n",
       "<p>5000 rows × 12 columns</p>\n",
       "</div>"
      ],
      "text/plain": [
       "               belongs_to_collection    budget     id  \\\n",
       "0               Toy Story Collection  30000000    862   \n",
       "1                                NaN  65000000   8844   \n",
       "2          Grumpy Old Men Collection         0  15602   \n",
       "3                                NaN  16000000  31357   \n",
       "4     Father of the Bride Collection         0  11862   \n",
       "...                              ...       ...    ...   \n",
       "4995                             NaN         0  19137   \n",
       "4996                             NaN   1558000  32499   \n",
       "4997                             NaN         0   8737   \n",
       "4998                             NaN         0  33668   \n",
       "4999          Fanny Brice Collection         0  39282   \n",
       "\n",
       "                                   production_companies  \\\n",
       "0                           ['Pixar Animation Studios']   \n",
       "1     ['TriStar Pictures', 'Teitler Film', 'Intersco...   \n",
       "2                    ['Warner Bros.', 'Lancaster Gate']   \n",
       "3            ['Twentieth Century Fox Film Corporation']   \n",
       "4      ['Sandollar Productions', 'Touchstone Pictures']   \n",
       "...                                                 ...   \n",
       "4995  ['Nancy Enterprises Inc. (I)', 'Cinecitta Ital...   \n",
       "4996                      ['Metro-Goldwyn-Mayer (MGM)']   \n",
       "4997  ['Bryna Productions', 'Batjac Productions', 'M...   \n",
       "4998                      ['Metro-Goldwyn-Mayer (MGM)']   \n",
       "4999  ['Columbia Pictures Corporation, Rastar Pictur...   \n",
       "\n",
       "              production_countries      revenue  runtime  \\\n",
       "0     ['United States of America']  373554033.0     81.0   \n",
       "1     ['United States of America']  262797249.0    104.0   \n",
       "2     ['United States of America']          0.0    101.0   \n",
       "3     ['United States of America']   81452156.0    127.0   \n",
       "4     ['United States of America']   76578911.0    106.0   \n",
       "...                            ...          ...      ...   \n",
       "4995  ['United States of America']          0.0    108.0   \n",
       "4996  ['United States of America']          0.0    118.0   \n",
       "4997  ['United States of America']          0.0    146.0   \n",
       "4998  ['United States of America']          0.0    118.0   \n",
       "4999  ['United States of America']          0.0    136.0   \n",
       "\n",
       "             spoken_languages                        title  release_year  \\\n",
       "0                 ['English']                    Toy Story          1995   \n",
       "1     ['English', 'Français']                      Jumanji          1995   \n",
       "2                 ['English']             Grumpier Old Men          1995   \n",
       "3                 ['English']            Waiting to Exhale          1995   \n",
       "4                 ['English']  Father of the Bride Part II          1995   \n",
       "...                       ...                          ...           ...   \n",
       "4995              ['English']                After the Fox          1966   \n",
       "4996              ['English']    The Bad and the Beautiful          1952   \n",
       "4997              ['English']          Cast a Giant Shadow          1966   \n",
       "4998              ['English']              Designing Woman          1957   \n",
       "4999              ['English']                   Funny Lady          1975   \n",
       "\n",
       "         return            director  \n",
       "0     12.451801       John Lasseter  \n",
       "1      4.043035        Joe Johnston  \n",
       "2      0.000000       Howard Deutch  \n",
       "3      5.090760     Forest Whitaker  \n",
       "4      0.000000       Charles Shyer  \n",
       "...         ...                 ...  \n",
       "4995   0.000000    Vittorio De Sica  \n",
       "4996   0.000000   Vincente Minnelli  \n",
       "4997   0.000000  Melville Shavelson  \n",
       "4998   0.000000   Vincente Minnelli  \n",
       "4999   0.000000        Herbert Ross  \n",
       "\n",
       "[5000 rows x 12 columns]"
      ]
     },
     "execution_count": 108,
     "metadata": {},
     "output_type": "execute_result"
    }
   ],
   "source": [
    "df_final\n"
   ]
  },
  {
   "cell_type": "code",
   "execution_count": 109,
   "metadata": {},
   "outputs": [],
   "source": [
    "def peliculas_idioma(idioma):\n",
    "    cantidad = df_final['spoken_languages'].apply(lambda x: idioma in x).sum()\n",
    "    mensaje = f\"Se han lanzado '{cantidad}' peliculas en ese Idioma\"\n",
    "    return mensaje"
   ]
  },
  {
   "cell_type": "code",
   "execution_count": 110,
   "metadata": {},
   "outputs": [
    {
     "data": {
      "text/plain": [
       "\"Se han lanzado '4383' peliculas en ese Idioma\""
      ]
     },
     "execution_count": 110,
     "metadata": {},
     "output_type": "execute_result"
    }
   ],
   "source": [
    "peliculas_idioma('English')"
   ]
  },
  {
   "cell_type": "code",
   "execution_count": 111,
   "metadata": {},
   "outputs": [],
   "source": [
    "def peliculas_duracion(nombre_pelicula):\n",
    "    \"\"\"\n",
    "    Esta función toma el nombre de una película y devuelve la duración y el año de lanzamiento\n",
    "    de la película solicitada.\n",
    "    \"\"\"\n",
    "    pelicula = df_final[df_final['title'] == nombre_pelicula]\n",
    "\n",
    "    if pelicula.empty:\n",
    "        return \"Película no encontrada en la base de datos.\"\n",
    "\n",
    "    duracion = pelicula['runtime'].values[0]\n",
    "    ano_lanzamiento = pelicula['release_year'].values[0]\n",
    "\n",
    "    mensaje = f\"La película '{nombre_pelicula}' tiene una duración de {duracion} minutos y fue lanzada en el año {ano_lanzamiento}.\"\n",
    "\n",
    "    return mensaje"
   ]
  },
  {
   "cell_type": "code",
   "execution_count": 112,
   "metadata": {},
   "outputs": [
    {
     "data": {
      "text/plain": [
       "\"La película 'Toy Story' tiene una duración de 81.0 minutos y fue lanzada en el año 1995.\""
      ]
     },
     "execution_count": 112,
     "metadata": {},
     "output_type": "execute_result"
    }
   ],
   "source": [
    "peliculas_duracion('Toy Story')"
   ]
  },
  {
   "cell_type": "code",
   "execution_count": 113,
   "metadata": {},
   "outputs": [],
   "source": [
    "def franquicia(Franquicia: str):\n",
    "    # Filtrar el DataFrame para obtener solo las filas de la franquicia específica\n",
    "    franquicia_df = df_final[df_final['belongs_to_collection'] == Franquicia]\n",
    "    \n",
    "    # Calcular la cantidad total de películas\n",
    "    total_peliculas = franquicia_df['belongs_to_collection'].count()\n",
    "     \n",
    "    # Calcular el return total de películas\n",
    "    total_return = franquicia_df['return'].sum()\n",
    "\n",
    "    # Calcular el promedio de películas\n",
    "    promedio_return = franquicia_df['return'].mean()\n",
    "    \n",
    "    mensaje = f\"La franquicia '{Franquicia}' cuenta con un total de '{total_peliculas}' peliculas con las cuales obtuvo una Ganancia Total de '${total_return}' y en promedio '${promedio_return}'.\"\n",
    "\n",
    "    return mensaje"
   ]
  },
  {
   "cell_type": "code",
   "execution_count": 114,
   "metadata": {},
   "outputs": [
    {
     "data": {
      "text/plain": [
       "\"La franquicia 'Toy Story Collection' cuenta con un total de '2' peliculas con las cuales obtuvo una Ganancia Total de '$17.978099644444445' y en promedio '$8.989049822222222'.\""
      ]
     },
     "execution_count": 114,
     "metadata": {},
     "output_type": "execute_result"
    }
   ],
   "source": [
    "franquicia('Toy Story Collection')"
   ]
  },
  {
   "cell_type": "code",
   "execution_count": 115,
   "metadata": {},
   "outputs": [],
   "source": [
    "def peliculas_pais(pais):\n",
    "    cantidad = df_final['production_countries'].apply(lambda x: pais in x).sum()\n",
    "    mensaje = f\"Se han lanzado '{cantidad}' de peliculas en '{pais}'\"\n",
    "    return mensaje"
   ]
  },
  {
   "cell_type": "code",
   "execution_count": 116,
   "metadata": {},
   "outputs": [
    {
     "data": {
      "text/plain": [
       "\"Se han lanzado '11' de peliculas en 'Argentina'\""
      ]
     },
     "execution_count": 116,
     "metadata": {},
     "output_type": "execute_result"
    }
   ],
   "source": [
    "peliculas_pais('Argentina')"
   ]
  },
  {
   "cell_type": "code",
   "execution_count": 117,
   "metadata": {},
   "outputs": [],
   "source": [
    "def productoras_exitosas(productora):\n",
    "    # Filtrar el DataFrame para obtener solo las filas de la franquicia específica\n",
    "    productora_df = df_final[df_final['production_companies'].str.contains(productora)]\n",
    "\n",
    "    # Calcular la cantidad total de películas\n",
    "\n",
    "    total_peliculas = productora_df['production_companies'].count()\n",
    " \n",
    "    # Calcular el return total de películas\n",
    "    total_revenue = productora_df['revenue'].sum()\n",
    "\n",
    "    mensaje = f\" La productora '{productora}' ha tenido un revenue de '${total_revenue}' y ha producido un total de '{total_peliculas}'\"\n",
    "\n",
    "    return mensaje"
   ]
  },
  {
   "cell_type": "code",
   "execution_count": 118,
   "metadata": {},
   "outputs": [
    {
     "data": {
      "text/plain": [
       "\" La productora 'Pixar Animation Studios' ha tenido un revenue de '$1796996017.0' y ha producido un total de '4'\""
      ]
     },
     "execution_count": 118,
     "metadata": {},
     "output_type": "execute_result"
    }
   ],
   "source": [
    "productoras_exitosas('Pixar Animation Studios')"
   ]
  },
  {
   "cell_type": "code",
   "execution_count": 119,
   "metadata": {},
   "outputs": [],
   "source": [
    "def get_director_info(director):\n",
    "    # Limpieza del DataFrame: eliminar filas con valores faltantes en las columnas relevantes\n",
    "    relevant_columns = ['director', 'title', 'release_year', 'budget', 'return']\n",
    "    df_cleaned = df_final.dropna(subset=relevant_columns)\n",
    "\n",
    "    # Filtrar el DataFrame limpio para obtener solo las filas del director específico\n",
    "    director_df = df_cleaned[df_cleaned['director'].str.contains(director, case=False)]\n",
    "\n",
    "    # Calcular el return total del director\n",
    "    total_revenue = director_df['revenue'].sum()\n",
    "\n",
    "    # Extraer la información requerida del DataFrame filtrado\n",
    "    movie_info = []\n",
    "    for index, row in director_df.iterrows():\n",
    "        movie_name = row['title']\n",
    "        release_year = row['release_year']\n",
    "        budget = row['budget']\n",
    "        revenue = row['return']\n",
    "\n",
    "        movie_info.append([movie_name, release_year, budget, revenue])\n",
    "    \n",
    "    mensaje = f\" El director '{director}' ha tenido un revenue totla de '${total_revenue}' y ha producido las siguientes peliculas, detallando ano de lanzamiento, costo y revenue respectivamente.'\"\n",
    "    return mensaje, movie_info\n"
   ]
  },
  {
   "cell_type": "code",
   "execution_count": 120,
   "metadata": {},
   "outputs": [
    {
     "data": {
      "text/plain": [
       "(\" El director 'John Lasseter' ha tenido un revenue totla de '$1234179761.0' y ha producido las siguientes peliculas, detallando ano de lanzamiento, costo y revenue respectivamente.'\",\n",
       " [['Toy Story', 1995, 30000000, 12.4518011],\n",
       "  [\"A Bug's Life\", 1998, 120000000, 3.027157158333333],\n",
       "  ['Toy Story 2', 1999, 90000000, 5.526298544444445]])"
      ]
     },
     "execution_count": 120,
     "metadata": {},
     "output_type": "execute_result"
    }
   ],
   "source": [
    "get_director_info('John Lasseter')"
   ]
  },
  {
   "cell_type": "code",
   "execution_count": 121,
   "metadata": {},
   "outputs": [],
   "source": [
    "def get_director_info(director):\n",
    "    # Filtrar el DataFrame para obtener solo las filas del director específico\n",
    "    director_df = df_final[df_final['director'].str.contains(director, case=False)]\n",
    "\n",
    "    # Extraer la información requerida del DataFrame filtrado\n",
    "    movie_info = []\n",
    "    for index, row in director_df.iterrows():\n",
    "        movie_name = row['title']\n",
    "        release_year = row['release year']\n",
    "        budget = row['budget']\n",
    "        revenue = row['return']\n",
    "        \n",
    "        movie_info.append([movie_name, release_year, budget, revenue])\n",
    "    \n",
    "    return movie_info\n",
    "\n",
    "    #mensaje = f\" La productora '{productora}' ha tenido un revenue de '${total_revenue}' y ha producido un total de '{total_peliculas}'\"\n",
    "\n",
    "    #return mensaje"
   ]
  }
 ],
 "metadata": {
  "kernelspec": {
   "display_name": "Python 3",
   "language": "python",
   "name": "python3"
  },
  "language_info": {
   "codemirror_mode": {
    "name": "ipython",
    "version": 3
   },
   "file_extension": ".py",
   "mimetype": "text/x-python",
   "name": "python",
   "nbconvert_exporter": "python",
   "pygments_lexer": "ipython3",
   "version": "3.11.3"
  },
  "orig_nbformat": 4
 },
 "nbformat": 4,
 "nbformat_minor": 2
}
