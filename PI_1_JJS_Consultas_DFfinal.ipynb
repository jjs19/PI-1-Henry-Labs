{
 "cells": [
  {
   "cell_type": "markdown",
   "metadata": {},
   "source": [
    "En este Notebook se encuentran las consultas que se solicita en la API."
   ]
  },
  {
   "cell_type": "code",
   "execution_count": 77,
   "metadata": {},
   "outputs": [],
   "source": [
    "import pandas as pd\n",
    "import ast  # Para convertir el string del diccionario en un diccionario real\n",
    "import numpy as np\n",
    "from pandas import json_normalize\n",
    "\n",
    "final = pd.read_csv('/Users/julianscarpeccio/Desktop/Data Science HENRY/LABS/PI MLOps/Archivo de Datos PI 1/mi_df_consultas')\n",
    "df_final = pd.DataFrame(final)"
   ]
  },
  {
   "cell_type": "code",
   "execution_count": 78,
   "metadata": {},
   "outputs": [
    {
     "data": {
      "text/html": [
       "<div>\n",
       "<style scoped>\n",
       "    .dataframe tbody tr th:only-of-type {\n",
       "        vertical-align: middle;\n",
       "    }\n",
       "\n",
       "    .dataframe tbody tr th {\n",
       "        vertical-align: top;\n",
       "    }\n",
       "\n",
       "    .dataframe thead th {\n",
       "        text-align: right;\n",
       "    }\n",
       "</style>\n",
       "<table border=\"1\" class=\"dataframe\">\n",
       "  <thead>\n",
       "    <tr style=\"text-align: right;\">\n",
       "      <th></th>\n",
       "      <th>belongs_to_collection</th>\n",
       "      <th>budget</th>\n",
       "      <th>id</th>\n",
       "      <th>production_companies</th>\n",
       "      <th>production_countries</th>\n",
       "      <th>revenue</th>\n",
       "      <th>runtime</th>\n",
       "      <th>spoken_languages</th>\n",
       "      <th>title</th>\n",
       "      <th>release_year</th>\n",
       "      <th>return</th>\n",
       "      <th>director</th>\n",
       "    </tr>\n",
       "  </thead>\n",
       "  <tbody>\n",
       "    <tr>\n",
       "      <th>0</th>\n",
       "      <td>Toy Story Collection</td>\n",
       "      <td>30000000</td>\n",
       "      <td>862</td>\n",
       "      <td>['Pixar Animation Studios']</td>\n",
       "      <td>['United States of America']</td>\n",
       "      <td>373554033.0</td>\n",
       "      <td>81.0</td>\n",
       "      <td>['English']</td>\n",
       "      <td>Toy Story</td>\n",
       "      <td>1995</td>\n",
       "      <td>12.451801</td>\n",
       "      <td>John Lasseter</td>\n",
       "    </tr>\n",
       "    <tr>\n",
       "      <th>1</th>\n",
       "      <td>NaN</td>\n",
       "      <td>65000000</td>\n",
       "      <td>8844</td>\n",
       "      <td>['TriStar Pictures', 'Teitler Film', 'Intersco...</td>\n",
       "      <td>['United States of America']</td>\n",
       "      <td>262797249.0</td>\n",
       "      <td>104.0</td>\n",
       "      <td>['English', 'Français']</td>\n",
       "      <td>Jumanji</td>\n",
       "      <td>1995</td>\n",
       "      <td>4.043035</td>\n",
       "      <td>Joe Johnston</td>\n",
       "    </tr>\n",
       "    <tr>\n",
       "      <th>2</th>\n",
       "      <td>Grumpy Old Men Collection</td>\n",
       "      <td>0</td>\n",
       "      <td>15602</td>\n",
       "      <td>['Warner Bros.', 'Lancaster Gate']</td>\n",
       "      <td>['United States of America']</td>\n",
       "      <td>0.0</td>\n",
       "      <td>101.0</td>\n",
       "      <td>['English']</td>\n",
       "      <td>Grumpier Old Men</td>\n",
       "      <td>1995</td>\n",
       "      <td>0.000000</td>\n",
       "      <td>Howard Deutch</td>\n",
       "    </tr>\n",
       "    <tr>\n",
       "      <th>3</th>\n",
       "      <td>NaN</td>\n",
       "      <td>16000000</td>\n",
       "      <td>31357</td>\n",
       "      <td>['Twentieth Century Fox Film Corporation']</td>\n",
       "      <td>['United States of America']</td>\n",
       "      <td>81452156.0</td>\n",
       "      <td>127.0</td>\n",
       "      <td>['English']</td>\n",
       "      <td>Waiting to Exhale</td>\n",
       "      <td>1995</td>\n",
       "      <td>5.090760</td>\n",
       "      <td>Forest Whitaker</td>\n",
       "    </tr>\n",
       "    <tr>\n",
       "      <th>4</th>\n",
       "      <td>Father of the Bride Collection</td>\n",
       "      <td>0</td>\n",
       "      <td>11862</td>\n",
       "      <td>['Sandollar Productions', 'Touchstone Pictures']</td>\n",
       "      <td>['United States of America']</td>\n",
       "      <td>76578911.0</td>\n",
       "      <td>106.0</td>\n",
       "      <td>['English']</td>\n",
       "      <td>Father of the Bride Part II</td>\n",
       "      <td>1995</td>\n",
       "      <td>0.000000</td>\n",
       "      <td>Charles Shyer</td>\n",
       "    </tr>\n",
       "    <tr>\n",
       "      <th>...</th>\n",
       "      <td>...</td>\n",
       "      <td>...</td>\n",
       "      <td>...</td>\n",
       "      <td>...</td>\n",
       "      <td>...</td>\n",
       "      <td>...</td>\n",
       "      <td>...</td>\n",
       "      <td>...</td>\n",
       "      <td>...</td>\n",
       "      <td>...</td>\n",
       "      <td>...</td>\n",
       "      <td>...</td>\n",
       "    </tr>\n",
       "    <tr>\n",
       "      <th>45446</th>\n",
       "      <td>NaN</td>\n",
       "      <td>0</td>\n",
       "      <td>30840</td>\n",
       "      <td>['Westdeutscher Rundfunk (WDR)', 'Working Titl...</td>\n",
       "      <td>['Canada', 'Germany', 'United Kingdom', 'Unite...</td>\n",
       "      <td>0.0</td>\n",
       "      <td>104.0</td>\n",
       "      <td>['English']</td>\n",
       "      <td>Robin Hood</td>\n",
       "      <td>1991</td>\n",
       "      <td>0.000000</td>\n",
       "      <td>John Irvin</td>\n",
       "    </tr>\n",
       "    <tr>\n",
       "      <th>45447</th>\n",
       "      <td>NaN</td>\n",
       "      <td>0</td>\n",
       "      <td>111109</td>\n",
       "      <td>['Sine Olivia']</td>\n",
       "      <td>['Philippines']</td>\n",
       "      <td>0.0</td>\n",
       "      <td>360.0</td>\n",
       "      <td>['']</td>\n",
       "      <td>Century of Birthing</td>\n",
       "      <td>2011</td>\n",
       "      <td>0.000000</td>\n",
       "      <td>Lav Diaz</td>\n",
       "    </tr>\n",
       "    <tr>\n",
       "      <th>45448</th>\n",
       "      <td>NaN</td>\n",
       "      <td>0</td>\n",
       "      <td>67758</td>\n",
       "      <td>['American World Pictures']</td>\n",
       "      <td>['United States of America']</td>\n",
       "      <td>0.0</td>\n",
       "      <td>90.0</td>\n",
       "      <td>['English']</td>\n",
       "      <td>Betrayal</td>\n",
       "      <td>2003</td>\n",
       "      <td>0.000000</td>\n",
       "      <td>Mark L. Lester</td>\n",
       "    </tr>\n",
       "    <tr>\n",
       "      <th>45449</th>\n",
       "      <td>NaN</td>\n",
       "      <td>0</td>\n",
       "      <td>227506</td>\n",
       "      <td>['Yermoliev']</td>\n",
       "      <td>['Russia']</td>\n",
       "      <td>0.0</td>\n",
       "      <td>87.0</td>\n",
       "      <td>[]</td>\n",
       "      <td>Satan Triumphant</td>\n",
       "      <td>1917</td>\n",
       "      <td>0.000000</td>\n",
       "      <td>Yakov Protazanov</td>\n",
       "    </tr>\n",
       "    <tr>\n",
       "      <th>45450</th>\n",
       "      <td>NaN</td>\n",
       "      <td>0</td>\n",
       "      <td>461257</td>\n",
       "      <td>[]</td>\n",
       "      <td>['United Kingdom']</td>\n",
       "      <td>0.0</td>\n",
       "      <td>75.0</td>\n",
       "      <td>['English']</td>\n",
       "      <td>Queerama</td>\n",
       "      <td>2017</td>\n",
       "      <td>0.000000</td>\n",
       "      <td>Daisy Asquith</td>\n",
       "    </tr>\n",
       "  </tbody>\n",
       "</table>\n",
       "<p>45451 rows × 12 columns</p>\n",
       "</div>"
      ],
      "text/plain": [
       "                belongs_to_collection    budget      id  \\\n",
       "0                Toy Story Collection  30000000     862   \n",
       "1                                 NaN  65000000    8844   \n",
       "2           Grumpy Old Men Collection         0   15602   \n",
       "3                                 NaN  16000000   31357   \n",
       "4      Father of the Bride Collection         0   11862   \n",
       "...                               ...       ...     ...   \n",
       "45446                             NaN         0   30840   \n",
       "45447                             NaN         0  111109   \n",
       "45448                             NaN         0   67758   \n",
       "45449                             NaN         0  227506   \n",
       "45450                             NaN         0  461257   \n",
       "\n",
       "                                    production_companies  \\\n",
       "0                            ['Pixar Animation Studios']   \n",
       "1      ['TriStar Pictures', 'Teitler Film', 'Intersco...   \n",
       "2                     ['Warner Bros.', 'Lancaster Gate']   \n",
       "3             ['Twentieth Century Fox Film Corporation']   \n",
       "4       ['Sandollar Productions', 'Touchstone Pictures']   \n",
       "...                                                  ...   \n",
       "45446  ['Westdeutscher Rundfunk (WDR)', 'Working Titl...   \n",
       "45447                                    ['Sine Olivia']   \n",
       "45448                        ['American World Pictures']   \n",
       "45449                                      ['Yermoliev']   \n",
       "45450                                                 []   \n",
       "\n",
       "                                    production_countries      revenue  \\\n",
       "0                           ['United States of America']  373554033.0   \n",
       "1                           ['United States of America']  262797249.0   \n",
       "2                           ['United States of America']          0.0   \n",
       "3                           ['United States of America']   81452156.0   \n",
       "4                           ['United States of America']   76578911.0   \n",
       "...                                                  ...          ...   \n",
       "45446  ['Canada', 'Germany', 'United Kingdom', 'Unite...          0.0   \n",
       "45447                                    ['Philippines']          0.0   \n",
       "45448                       ['United States of America']          0.0   \n",
       "45449                                         ['Russia']          0.0   \n",
       "45450                                 ['United Kingdom']          0.0   \n",
       "\n",
       "       runtime         spoken_languages                        title  \\\n",
       "0         81.0              ['English']                    Toy Story   \n",
       "1        104.0  ['English', 'Français']                      Jumanji   \n",
       "2        101.0              ['English']             Grumpier Old Men   \n",
       "3        127.0              ['English']            Waiting to Exhale   \n",
       "4        106.0              ['English']  Father of the Bride Part II   \n",
       "...        ...                      ...                          ...   \n",
       "45446    104.0              ['English']                   Robin Hood   \n",
       "45447    360.0                     ['']          Century of Birthing   \n",
       "45448     90.0              ['English']                     Betrayal   \n",
       "45449     87.0                       []             Satan Triumphant   \n",
       "45450     75.0              ['English']                     Queerama   \n",
       "\n",
       "       release_year     return          director  \n",
       "0              1995  12.451801     John Lasseter  \n",
       "1              1995   4.043035      Joe Johnston  \n",
       "2              1995   0.000000     Howard Deutch  \n",
       "3              1995   5.090760   Forest Whitaker  \n",
       "4              1995   0.000000     Charles Shyer  \n",
       "...             ...        ...               ...  \n",
       "45446          1991   0.000000        John Irvin  \n",
       "45447          2011   0.000000          Lav Diaz  \n",
       "45448          2003   0.000000    Mark L. Lester  \n",
       "45449          1917   0.000000  Yakov Protazanov  \n",
       "45450          2017   0.000000     Daisy Asquith  \n",
       "\n",
       "[45451 rows x 12 columns]"
      ]
     },
     "execution_count": 78,
     "metadata": {},
     "output_type": "execute_result"
    }
   ],
   "source": [
    "df_final\n"
   ]
  },
  {
   "cell_type": "code",
   "execution_count": 79,
   "metadata": {},
   "outputs": [],
   "source": [
    "def peliculas_idioma(idioma):\n",
    "    cantidad = df_final['spoken_languages'].apply(lambda x: idioma in x).sum()\n",
    "    mensaje = f\"Se han lanzado '{cantidad}' peliculas en ese Idioma\"\n",
    "    return mensaje"
   ]
  },
  {
   "cell_type": "code",
   "execution_count": 80,
   "metadata": {},
   "outputs": [
    {
     "data": {
      "text/plain": [
       "\"Se han lanzado '28771' peliculas en ese Idioma\""
      ]
     },
     "execution_count": 80,
     "metadata": {},
     "output_type": "execute_result"
    }
   ],
   "source": [
    "peliculas_idioma('English')"
   ]
  },
  {
   "cell_type": "code",
   "execution_count": 81,
   "metadata": {},
   "outputs": [],
   "source": [
    "def peliculas_duracion(nombre_pelicula):\n",
    "    \"\"\"\n",
    "    Esta función toma el nombre de una película y devuelve la duración y el año de lanzamiento\n",
    "    de la película solicitada.\n",
    "    \"\"\"\n",
    "    pelicula = df_final[df_final['title'] == nombre_pelicula]\n",
    "\n",
    "    if pelicula.empty:\n",
    "        return \"Película no encontrada en la base de datos.\"\n",
    "\n",
    "    duracion = pelicula['runtime'].values[0]\n",
    "    ano_lanzamiento = pelicula['release_year'].values[0]\n",
    "\n",
    "    mensaje = f\"La película '{nombre_pelicula}' tiene una duración de {duracion} minutos y fue lanzada en el año {ano_lanzamiento}.\"\n",
    "\n",
    "    return mensaje"
   ]
  },
  {
   "cell_type": "code",
   "execution_count": 82,
   "metadata": {},
   "outputs": [
    {
     "data": {
      "text/plain": [
       "\"La película 'Toy Story' tiene una duración de 81.0 minutos y fue lanzada en el año 1995.\""
      ]
     },
     "execution_count": 82,
     "metadata": {},
     "output_type": "execute_result"
    }
   ],
   "source": [
    "peliculas_duracion('Toy Story')"
   ]
  },
  {
   "cell_type": "code",
   "execution_count": 83,
   "metadata": {},
   "outputs": [],
   "source": [
    "def franquicia(Franquicia: str):\n",
    "    # Filtrar el DataFrame para obtener solo las filas de la franquicia específica\n",
    "    franquicia_df = df_final[df_final['belongs_to_collection'] == Franquicia]\n",
    "    \n",
    "    # Calcular la cantidad total de películas\n",
    "    total_peliculas = franquicia_df['belongs_to_collection'].count()\n",
    "     \n",
    "    # Calcular el return total de películas\n",
    "    total_return = franquicia_df['return'].sum()\n",
    "\n",
    "    # Calcular el promedio de películas\n",
    "    promedio_return = franquicia_df['return'].mean()\n",
    "    \n",
    "    mensaje = f\"La franquicia '{Franquicia}' cuenta con un total de '{total_peliculas}' peliculas con las cuales obtuvo una Ganancia Total de '${total_return}' y en promedio '${promedio_return}'.\"\n",
    "\n",
    "    return mensaje"
   ]
  },
  {
   "cell_type": "code",
   "execution_count": 84,
   "metadata": {},
   "outputs": [
    {
     "data": {
      "text/plain": [
       "\"La franquicia 'Toy Story Collection' cuenta con un total de '3' peliculas con las cuales obtuvo una Ganancia Total de '$23.312948159444446' y en promedio '$7.770982719814815'.\""
      ]
     },
     "execution_count": 84,
     "metadata": {},
     "output_type": "execute_result"
    }
   ],
   "source": [
    "franquicia('Toy Story Collection')"
   ]
  },
  {
   "cell_type": "code",
   "execution_count": 85,
   "metadata": {},
   "outputs": [],
   "source": [
    "def peliculas_pais(pais):\n",
    "    cantidad = df_final['production_countries'].apply(lambda x: pais in x).sum()\n",
    "    mensaje = f\"Se han lanzado '{cantidad}' de peliculas en '{pais}'\"\n",
    "    return mensaje"
   ]
  },
  {
   "cell_type": "code",
   "execution_count": 86,
   "metadata": {},
   "outputs": [
    {
     "data": {
      "text/plain": [
       "\"Se han lanzado '254' de peliculas en 'Argentina'\""
      ]
     },
     "execution_count": 86,
     "metadata": {},
     "output_type": "execute_result"
    }
   ],
   "source": [
    "peliculas_pais('Argentina')"
   ]
  },
  {
   "cell_type": "code",
   "execution_count": 87,
   "metadata": {},
   "outputs": [],
   "source": [
    "def productoras_exitosas(productora):\n",
    "    # Filtrar el DataFrame para obtener solo las filas de la franquicia específica\n",
    "    productora_df = df_final[df_final['production_companies'].str.contains(productora)]\n",
    "\n",
    "    # Calcular la cantidad total de películas\n",
    "\n",
    "    total_peliculas = productora_df['production_companies'].count()\n",
    " \n",
    "    # Calcular el return total de películas\n",
    "    total_revenue = productora_df['revenue'].sum()\n",
    "\n",
    "    mensaje = f\" La productora '{productora}' ha tenido un revenue de '${total_revenue}' y ha producido un total de '{total_peliculas}'\"\n",
    "\n",
    "    return mensaje"
   ]
  },
  {
   "cell_type": "code",
   "execution_count": 88,
   "metadata": {},
   "outputs": [
    {
     "data": {
      "text/plain": [
       "\" La productora 'Pixar Animation Studios' ha tenido un revenue de '$11188533734.0' y ha producido un total de '52'\""
      ]
     },
     "execution_count": 88,
     "metadata": {},
     "output_type": "execute_result"
    }
   ],
   "source": [
    "productoras_exitosas('Pixar Animation Studios')"
   ]
  },
  {
   "cell_type": "code",
   "execution_count": 89,
   "metadata": {},
   "outputs": [],
   "source": [
    "def get_director_info(director):\n",
    "    # Limpieza del DataFrame: eliminar filas con valores faltantes en las columnas relevantes\n",
    "    relevant_columns = ['director', 'title', 'release_year', 'budget', 'return']\n",
    "    df_cleaned = df_final.dropna(subset=relevant_columns)\n",
    "\n",
    "    # Filtrar el DataFrame limpio para obtener solo las filas del director específico\n",
    "    director_df = df_cleaned[df_cleaned['director'].str.contains(director, case=False)]\n",
    "\n",
    "    # Calcular el return total del director\n",
    "    total_revenue = director_df['revenue'].sum()\n",
    "\n",
    "    # Extraer la información requerida del DataFrame filtrado\n",
    "    movie_info = []\n",
    "    for index, row in director_df.iterrows():\n",
    "        movie_name = row['title']\n",
    "        release_year = row['release_year']\n",
    "        budget = row['budget']\n",
    "        revenue = row['return']\n",
    "\n",
    "        movie_info.append([movie_name, release_year, budget, revenue])\n",
    "    \n",
    "    mensaje = f\" El director '{director}' ha tenido un revenue totla de '${total_revenue}' y ha producido las siguientes peliculas, detallando ano de lanzamiento, costo y revenue respectivamente.'\"\n",
    "    return mensaje, movie_info\n"
   ]
  },
  {
   "cell_type": "code",
   "execution_count": 90,
   "metadata": {},
   "outputs": [
    {
     "data": {
      "text/plain": [
       "(\" El director 'John Lasseter' ha tenido un revenue totla de '$2256015306.0' y ha producido las siguientes peliculas, detallando ano de lanzamiento, costo y revenue respectivamente.'\",\n",
       " [['Toy Story', 1995, 30000000, 12.4518011],\n",
       "  [\"A Bug's Life\", 1998, 120000000, 3.027157158333333],\n",
       "  ['Toy Story 2', 1999, 90000000, 5.526298544444445],\n",
       "  ['Luxo Jr.', 1986, 0, 0.0],\n",
       "  ['Cars', 2006, 120000000, 3.849859575],\n",
       "  ['Cars 2', 2011, 200000000, 2.79926198],\n",
       "  ['Tin Toy', 1988, 0, 0.0],\n",
       "  [\"Red's Dream\", 1987, 0, 0.0],\n",
       "  ['Knick Knack', 1989, 0, 0.0],\n",
       "  ['Mater and the Ghostlight', 2006, 0, 0.0]])"
      ]
     },
     "execution_count": 90,
     "metadata": {},
     "output_type": "execute_result"
    }
   ],
   "source": [
    "get_director_info('John Lasseter')"
   ]
  },
  {
   "cell_type": "code",
   "execution_count": 91,
   "metadata": {},
   "outputs": [],
   "source": [
    "def get_director_info(director):\n",
    "    # Filtrar el DataFrame para obtener solo las filas del director específico\n",
    "    director_df = df_final[df_final['director'].str.contains(director, case=False)]\n",
    "\n",
    "    # Extraer la información requerida del DataFrame filtrado\n",
    "    movie_info = []\n",
    "    for index, row in director_df.iterrows():\n",
    "        movie_name = row['title']\n",
    "        release_year = row['release year']\n",
    "        budget = row['budget']\n",
    "        revenue = row['return']\n",
    "        \n",
    "        movie_info.append([movie_name, release_year, budget, revenue])\n",
    "    \n",
    "    return movie_info\n",
    "\n",
    "    #mensaje = f\" La productora '{productora}' ha tenido un revenue de '${total_revenue}' y ha producido un total de '{total_peliculas}'\"\n",
    "\n",
    "    #return mensaje"
   ]
  }
 ],
 "metadata": {
  "kernelspec": {
   "display_name": "Python 3",
   "language": "python",
   "name": "python3"
  },
  "language_info": {
   "codemirror_mode": {
    "name": "ipython",
    "version": 3
   },
   "file_extension": ".py",
   "mimetype": "text/x-python",
   "name": "python",
   "nbconvert_exporter": "python",
   "pygments_lexer": "ipython3",
   "version": "3.11.3"
  },
  "orig_nbformat": 4
 },
 "nbformat": 4,
 "nbformat_minor": 2
}
